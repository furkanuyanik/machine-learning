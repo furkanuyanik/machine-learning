{
  "nbformat": 4,
  "nbformat_minor": 0,
  "metadata": {
    "colab": {
      "name": "InformationGain.ipynb",
      "provenance": [],
      "authorship_tag": "ABX9TyPcLvVWM5rG3bY4WL0eYviR"
    },
    "kernelspec": {
      "name": "python3",
      "display_name": "Python 3"
    }
  },
  "cells": [
    {
      "cell_type": "code",
      "metadata": {
        "id": "sLTsxscKSHn6",
        "colab_type": "code",
        "colab": {}
      },
      "source": [
        "import pandas as pd\n",
        "from math import log2"
      ],
      "execution_count": 0,
      "outputs": []
    },
    {
      "cell_type": "code",
      "metadata": {
        "id": "ZeIpFD2uTkVq",
        "colab_type": "code",
        "colab": {}
      },
      "source": [
        "data = pd.read_csv('telecom.csv')"
      ],
      "execution_count": 0,
      "outputs": []
    },
    {
      "cell_type": "code",
      "metadata": {
        "id": "EAY9a9lfSMzp",
        "colab_type": "code",
        "colab": {
          "base_uri": "https://localhost:8080/",
          "height": 34
        },
        "outputId": "85201850-5303-4db9-a94e-c8b595dd6dd3"
      },
      "source": [
        "def entropy(column):\n",
        "  temp = 0\n",
        "\n",
        "  record_count = data[column].size\n",
        "  distinct_values = data[column].value_counts().keys().tolist()\n",
        "\n",
        "  for x in distinct_values:\n",
        "    value = data[data[column] == x]\n",
        "    temp += (value[column].size/record_count)*log2(value[column].size/record_count)\n",
        "    \n",
        "  return -1 * temp  \n",
        "  \n",
        "\n",
        "print(entropy(\"churn\"))"
      ],
      "execution_count": 79,
      "outputs": [
        {
          "output_type": "stream",
          "text": [
            "0.5969661117996699\n"
          ],
          "name": "stdout"
        }
      ]
    }
  ]
}